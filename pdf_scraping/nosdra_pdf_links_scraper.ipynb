{
 "cells": [
  {
   "cell_type": "code",
   "execution_count": 1,
   "metadata": {},
   "outputs": [],
   "source": [
    "import requests\n",
    "from bs4 import BeautifulSoup"
   ]
  },
  {
   "cell_type": "code",
   "execution_count": 2,
   "metadata": {},
   "outputs": [],
   "source": [
    "# Send a request to the website and retrieve the HTML code\n",
    "url = 'https://nosdra.gov.ng/annual-reports/'\n",
    "response = requests.get(url)\n",
    "html = response.content"
   ]
  },
  {
   "cell_type": "code",
   "execution_count": 3,
   "metadata": {},
   "outputs": [],
   "source": [
    "# Parse the HTML code with Beautiful Soup and extract the data\n",
    "soup = BeautifulSoup(html, 'html.parser')"
   ]
  },
  {
   "cell_type": "code",
   "execution_count": 4,
   "metadata": {},
   "outputs": [],
   "source": [
    "href_tags = soup.find_all(\"a\", \"s_pdf_download_link\",href = True)"
   ]
  },
  {
   "cell_type": "code",
   "execution_count": 5,
   "metadata": {},
   "outputs": [],
   "source": [
    "links = [href['href'] for href in href_tags]"
   ]
  },
  {
   "cell_type": "code",
   "execution_count": 6,
   "metadata": {},
   "outputs": [
    {
     "data": {
      "text/plain": [
       "['https://nosdra.gov.ng/wp-content/uploads/2021/08/2021%20Annual%20Report.pdf',\n",
       " 'https://nosdra.gov.ng/wp-content/uploads/2021/08/2020%20Annual%20Report.pdf',\n",
       " 'https://nosdra.gov.ng/wp-content/uploads/2021/08/2019%20Annual%20Report.pdf',\n",
       " 'https://nosdra.gov.ng/wp-content/uploads/2021/08/2018%20Annual%20Report.pdf',\n",
       " 'https://nosdra.gov.ng/wp-content/uploads/2021/08/2017%20Annual%20Report.pdf',\n",
       " 'https://nosdra.gov.ng/wp-content/uploads/2021/08/2016%20Annual%20Report.pdf']"
      ]
     },
     "execution_count": 6,
     "metadata": {},
     "output_type": "execute_result"
    }
   ],
   "source": [
    "links"
   ]
  },
  {
   "cell_type": "code",
   "execution_count": 7,
   "metadata": {},
   "outputs": [],
   "source": [
    "def download_pdf(links):\n",
    "    count = 1\n",
    "    for link in links:\n",
    "        r = requests.get(link, stream=True)\n",
    "        print(f\"Downloading report {count}.\")\n",
    "        with open(f'./pdfs/report{count}.pdf', 'wb') as fd:\n",
    "            for chunk in r.iter_content(200000):\n",
    "                fd.write(chunk)\n",
    "        print(f\"Downloaded report {count}.\")\n",
    "        count += 1\n",
    "    return \"Downloaded all the pdf files.\""
   ]
  },
  {
   "cell_type": "code",
   "execution_count": 8,
   "metadata": {},
   "outputs": [
    {
     "name": "stdout",
     "output_type": "stream",
     "text": [
      "Downloading report 1.\n",
      "Downloaded report 1.\n",
      "Downloading report 2.\n",
      "Downloaded report 2.\n",
      "Downloading report 3.\n",
      "Downloaded report 3.\n",
      "Downloading report 4.\n",
      "Downloaded report 4.\n",
      "Downloading report 5.\n",
      "Downloaded report 5.\n",
      "Downloading report 6.\n",
      "Downloaded report 6.\n"
     ]
    },
    {
     "data": {
      "text/plain": [
       "'Downloaded all the pdf files.'"
      ]
     },
     "execution_count": 8,
     "metadata": {},
     "output_type": "execute_result"
    }
   ],
   "source": [
    "download_pdf(links)"
   ]
  }
 ],
 "metadata": {
  "kernelspec": {
   "display_name": "generic",
   "language": "python",
   "name": "python3"
  },
  "language_info": {
   "codemirror_mode": {
    "name": "ipython",
    "version": 3
   },
   "file_extension": ".py",
   "mimetype": "text/x-python",
   "name": "python",
   "nbconvert_exporter": "python",
   "pygments_lexer": "ipython3",
   "version": "3.9.16"
  },
  "orig_nbformat": 4,
  "vscode": {
   "interpreter": {
    "hash": "7f34a1bf2ee6f32daae4de7df453d9df200f1e6db4c4ea88646717a2fc204f10"
   }
  }
 },
 "nbformat": 4,
 "nbformat_minor": 2
}
